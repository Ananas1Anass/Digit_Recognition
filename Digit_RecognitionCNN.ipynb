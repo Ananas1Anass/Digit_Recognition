{
 "cells": [
  {
   "cell_type": "code",
   "execution_count": 50,
   "id": "77588be7",
   "metadata": {},
   "outputs": [],
   "source": [
    "import numpy as np\n",
    "import pandas as pd\n",
    "import matplotlib.pyplot as plt\n",
    "import tensorflow as tf\n",
    "from tensorflow import keras\n",
    "from tensorflow.keras import layers, models, metrics\n"
   ]
  },
  {
   "cell_type": "code",
   "execution_count": 51,
   "id": "983a930f",
   "metadata": {},
   "outputs": [
    {
     "name": "stdout",
     "output_type": "stream",
     "text": [
      "/home/anass/Documents/digitrecognition/Digit_RecognitionCNN.ipynb\n",
      "/home/anass/Documents/digitrecognition/train.csv\n",
      "/home/anass/Documents/digitrecognition/sample_submission.csv\n",
      "/home/anass/Documents/digitrecognition/test.csv\n",
      "/home/anass/Documents/digitrecognition/.ipynb_checkpoints/Digit_RecognitionCNN-checkpoint.ipynb\n"
     ]
    }
   ],
   "source": [
    "import os\n",
    "for dirname, _, filenames in os.walk('/home/anass/Documents/digitrecognition'):\n",
    "    for filename in filenames:\n",
    "        print(os.path.join(dirname, filename))"
   ]
  },
  {
   "cell_type": "code",
   "execution_count": 52,
   "id": "f48e7c09",
   "metadata": {},
   "outputs": [
    {
     "name": "stdout",
     "output_type": "stream",
     "text": [
      "(42000, 785)\n",
      "(28000, 784)\n"
     ]
    }
   ],
   "source": [
    "train_data = pd.read_csv(\"/home/anass/Documents/digitrecognition/train.csv\")\n",
    "test_data=pd.read_csv(\"/home/anass/Documents/digitrecognition/test.csv\")\n",
    "print(train_data.shape)\n",
    "print(test_data.shape)"
   ]
  },
  {
   "cell_type": "code",
   "execution_count": 53,
   "id": "78a3a8df",
   "metadata": {},
   "outputs": [
    {
     "data": {
      "image/png": "[encoded data removed]",
      "text/plain": [
       "<Figure size 1440x1440 with 10 Axes>"
      ]
     },
     "metadata": {
      "needs_background": "light"
     },
     "output_type": "display_data"
    }
   ],
   "source": [
    "plt.figure(figsize=(20,20))\n",
    "for i in range(1,11):\n",
    "    q=train_data.iloc[i:i+1,1:].values\n",
    "    plt.subplot(10,10,i)\n",
    "  #Assuming these are square images\n",
    "  #sqrt of 784 is 28\n",
    "    plt.imshow(q.reshape(28,28),cmap=plt.cm.binary)"
   ]
  },
  {
   "cell_type": "code",
   "execution_count": 54,
   "id": "46354fcd",
   "metadata": {},
   "outputs": [
    {
     "data": {
      "text/plain": [
       "((42000, 28, 28, 1), (42000,), (28000, 28, 28, 1), (28000, 28, 28, 1))"
      ]
     },
     "execution_count": 54,
     "metadata": {},
     "output_type": "execute_result"
    }
   ],
   "source": [
    "size=28\n",
    "x_train = train_data.drop(['label'], axis=1).astype('float32').values.reshape(-1,size,size,1)\n",
    "y_train = train_data['label'].astype('int32')\n",
    "x_test = test_data.values.reshape(-1,size,size,1)\n",
    "y_test = test_data.values.reshape(-1,size,size,1)\n",
    "x_train.shape, y_train.shape, x_test.shape, y_test.shape"
   ]
  },
  {
   "cell_type": "code",
   "execution_count": 66,
   "id": "59a9598c",
   "metadata": {},
   "outputs": [],
   "source": [
    "model = models.Sequential()\n",
    "model.add(layers.Conv2D(128, \n",
    "                        (3, 3), \n",
    "                        activation='relu',\n",
    "                        input_shape=x_train.shape[1:]))\n",
    "model.add(layers.MaxPooling2D(pool_size=(2, 2)))\n",
    "model.add(layers.Conv2D(128, (3, 3), activation='relu'))\n",
    "model.add(layers.MaxPooling2D(pool_size=(2, 2)))\n",
    "model.add(layers.Conv2D(128, (3, 3), activation='relu'))\n",
    "model.add(layers.MaxPooling2D(pool_size=(2, 2)))\n",
    "# Classifier\n",
    "model.add(layers.Flatten())\n",
    "model.add(layers.Dense(128, activation='relu'))\n",
    "model.add(layers.Dense(64, activation='relu'))\n",
    "model.add(layers.Dense(32, activation='relu'))\n",
    "model.add(layers.Dense(10, activation='softmax'))\n"
   ]
  },
  {
   "cell_type": "code",
   "execution_count": 67,
   "id": "245a7185",
   "metadata": {},
   "outputs": [
    {
     "name": "stdout",
     "output_type": "stream",
     "text": [
      "Model: \"sequential_11\"\n",
      "_________________________________________________________________\n",
      " Layer (type)                Output Shape              Param #   \n",
      "=================================================================\n",
      " conv2d_30 (Conv2D)          (None, 26, 26, 128)       1280      \n",
      "                                                                 \n",
      " max_pooling2d_30 (MaxPoolin  (None, 13, 13, 128)      0         \n",
      " g2D)                                                            \n",
      "                                                                 \n",
      " conv2d_31 (Conv2D)          (None, 11, 11, 128)       147584    \n",
      "                                                                 \n",
      " max_pooling2d_31 (MaxPoolin  (None, 5, 5, 128)        0         \n",
      " g2D)                                                            \n",
      "                                                                 \n",
      " conv2d_32 (Conv2D)          (None, 3, 3, 128)         147584    \n",
      "                                                                 \n",
      " max_pooling2d_32 (MaxPoolin  (None, 1, 1, 128)        0         \n",
      " g2D)                                                            \n",
      "                                                                 \n",
      " flatten_10 (Flatten)        (None, 128)               0         \n",
      "                                                                 \n",
      " dense_34 (Dense)            (None, 128)               16512     \n",
      "                                                                 \n",
      " dense_35 (Dense)            (None, 64)                8256      \n",
      "                                                                 \n",
      " dense_36 (Dense)            (None, 32)                2080      \n",
      "                                                                 \n",
      " dense_37 (Dense)            (None, 10)                330       \n",
      "                                                                 \n",
      "=================================================================\n",
      "Total params: 323,626\n",
      "Trainable params: 323,626\n",
      "Non-trainable params: 0\n",
      "_________________________________________________________________\n"
     ]
    }
   ],
   "source": [
    "model.summary()"
   ]
  },
  {
   "cell_type": "code",
   "execution_count": 71,
   "id": "d2950000",
   "metadata": {},
   "outputs": [],
   "source": [
    "model.compile(loss='sparse_categorical_crossentropy',\n",
    "              optimizer='adam',\n",
    "              #loss_weights=[1, 100],\n",
    "              metrics=['accuracy'])\n"
   ]
  },
  {
   "cell_type": "code",
   "execution_count": 72,
   "id": "224a4bb7",
   "metadata": {},
   "outputs": [
    {
     "name": "stdout",
     "output_type": "stream",
     "text": [
      "Epoch 1/20\n",
      "1313/1313 [==============================] - 93s 70ms/step - loss: 0.2659 - accuracy: 0.9227\n",
      "Epoch 2/20\n",
      "1313/1313 [==============================] - 93s 71ms/step - loss: 0.0902 - accuracy: 0.9732\n",
      "Epoch 3/20\n",
      "1313/1313 [==============================] - 110s 83ms/step - loss: 0.0711 - accuracy: 0.9791\n",
      "Epoch 4/20\n",
      "1313/1313 [==============================] - 109s 83ms/step - loss: 0.0579 - accuracy: 0.9824\n",
      "Epoch 5/20\n",
      "1313/1313 [==============================] - 123s 94ms/step - loss: 0.0503 - accuracy: 0.9854\n",
      "Epoch 6/20\n",
      "1313/1313 [==============================] - 124s 94ms/step - loss: 0.0456 - accuracy: 0.9865\n",
      "Epoch 7/20\n",
      "1313/1313 [==============================] - 112s 85ms/step - loss: 0.0389 - accuracy: 0.9887\n",
      "Epoch 8/20\n",
      "1313/1313 [==============================] - 119s 91ms/step - loss: 0.0337 - accuracy: 0.9901\n",
      "Epoch 9/20\n",
      "1313/1313 [==============================] - 113s 86ms/step - loss: 0.0311 - accuracy: 0.9912\n",
      "Epoch 10/20\n",
      "1313/1313 [==============================] - 99s 76ms/step - loss: 0.0287 - accuracy: 0.9918\n",
      "Epoch 11/20\n",
      "1313/1313 [==============================] - 102s 78ms/step - loss: 0.0255 - accuracy: 0.9926\n",
      "Epoch 12/20\n",
      "1313/1313 [==============================] - 100s 76ms/step - loss: 0.0231 - accuracy: 0.9935\n",
      "Epoch 13/20\n",
      "1313/1313 [==============================] - 102s 78ms/step - loss: 0.0247 - accuracy: 0.9933\n",
      "Epoch 14/20\n",
      "1313/1313 [==============================] - 100s 76ms/step - loss: 0.0278 - accuracy: 0.9929\n",
      "Epoch 15/20\n",
      "1313/1313 [==============================] - 99s 75ms/step - loss: 0.0178 - accuracy: 0.9951\n",
      "Epoch 16/20\n",
      "1313/1313 [==============================] - 98s 75ms/step - loss: 0.0220 - accuracy: 0.9946\n",
      "Epoch 17/20\n",
      "1313/1313 [==============================] - 99s 75ms/step - loss: 0.0200 - accuracy: 0.9944\n",
      "Epoch 18/20\n",
      "1313/1313 [==============================] - 101s 77ms/step - loss: 0.0151 - accuracy: 0.9962\n",
      "Epoch 19/20\n",
      "1313/1313 [==============================] - 103s 79ms/step - loss: 0.0166 - accuracy: 0.9960\n",
      "Epoch 20/20\n",
      "1313/1313 [==============================] - 126s 96ms/step - loss: 0.0155 - accuracy: 0.9960\n"
     ]
    }
   ],
   "source": [
    "callback = tf.keras.callbacks.EarlyStopping(monitor='loss', patience=3)\n",
    "\n",
    "history = model.fit(x_train,\n",
    "                    y_train,\n",
    "                    epochs=20,\n",
    "                    callbacks=[callback],\n",
    ")\n"
   ]
  },
  {
   "cell_type": "code",
   "execution_count": null,
   "id": "cdb13044",
   "metadata": {},
   "outputs": [],
   "source": []
  },
  {
   "cell_type": "code",
   "execution_count": 79,
   "id": "1fd23cb2",
   "metadata": {},
   "outputs": [
    {
     "name": "stdout",
     "output_type": "stream",
     "text": [
      "875/875 [==============================] - 15s 17ms/step - loss: 0.0078 - accuracy: 1.0000\n"
     ]
    },
    {
     "data": {
      "text/plain": [
       "[0.007798229344189167, 1.0]"
      ]
     },
     "execution_count": 79,
     "metadata": {},
     "output_type": "execute_result"
    }
   ],
   "source": [
    "model_filename=\"Digit_Prediction_BA.h5\"\n",
    "models.save_model(model, model_filename)\n",
    "\n",
    "\n",
    "model.evaluate(x=x_test[10:], y=y_test[10:])\n"
   ]
  },
  {
   "cell_type": "code",
   "execution_count": 81,
   "id": "0fa8c75b",
   "metadata": {},
   "outputs": [
    {
     "name": "stdout",
     "output_type": "stream",
     "text": [
      "875/875 [==============================] - 16s 19ms/step\n",
      "prediction 7\n"
     ]
    },
    {
     "data": {
      "image/png": "[encoded data removed]",
      "text/plain": [
       "<Figure size 432x288 with 1 Axes>"
      ]
     },
     "metadata": {
      "needs_background": "light"
     },
     "output_type": "display_data"
    }
   ],
   "source": [
    "y_test = model.predict(x_test)\n",
    "y_test = np.argmax(y_test,axis=1)\n",
    "plt.imshow(x_test[11])\n",
    "print(\"prediction\",y_test[11])"
   ]
  },
  {
   "cell_type": "code",
   "execution_count": 84,
   "id": "ec5adca3",
   "metadata": {},
   "outputs": [
    {
     "name": "stdout",
     "output_type": "stream",
     "text": [
      "875/875 [==============================] - 16s 18ms/step\n",
      "prediction 0\n",
      "875/875 [==============================] - 27s 30ms/step\n",
      "prediction 9\n",
      "875/875 [==============================] - 29s 33ms/step\n",
      "prediction 9\n",
      "875/875 [==============================] - 21s 24ms/step\n",
      "prediction 3\n",
      "875/875 [==============================] - 19s 21ms/step\n",
      "prediction 7\n",
      "875/875 [==============================] - 17s 20ms/step\n",
      "prediction 0\n",
      "875/875 [==============================] - 18s 20ms/step\n",
      "prediction 3\n",
      "875/875 [==============================] - 25s 28ms/step\n",
      "prediction 0\n",
      "875/875 [==============================] - 18s 20ms/step\n",
      "prediction 3\n"
     ]
    },
    {
     "data": {
      "image/png": "[encoded data removed]",
      "text/plain": [
       "<Figure size 432x288 with 9 Axes>"
      ]
     },
     "metadata": {
      "needs_background": "light"
     },
     "output_type": "display_data"
    }
   ],
   "source": [
    "for i in range(1,10):\n",
    "    q=train_data.iloc[i:i+1,1:].values\n",
    "    plt.subplot(10,10,i)\n",
    "  #Assuming these are square images\n",
    "  #sqrt of 784 is 28\n",
    "    plt.imshow(q.reshape(28,28),cmap=plt.cm.binary)\n",
    "    y_test = model.predict(x_test)\n",
    "    y_test = np.argmax(y_test,axis=1)\n",
    "    plt.imshow(x_test[i])\n",
    "    print(\"prediction\",y_test[i])"
   ]
  },
  {
   "cell_type": "code",
   "execution_count": null,
   "id": "c3215ea6",
   "metadata": {},
   "outputs": [],
   "source": []
  },
  {
   "cell_type": "code",
   "execution_count": null,
   "id": "7bf4fb80",
   "metadata": {},
   "outputs": [],
   "source": []
  }
 ],
 "metadata": {
  "kernelspec": {
   "display_name": "Python 3 (ipykernel)",
   "language": "python",
   "name": "python3"
  },
  "language_info": {
   "codemirror_mode": {
    "name": "ipython",
    "version": 3
   },
   "file_extension": ".py",
   "mimetype": "text/x-python",
   "name": "python",
   "nbconvert_exporter": "python",
   "pygments_lexer": "ipython3",
   "version": "3.9.7"
  }
 },
 "nbformat": 4,
 "nbformat_minor": 5
}
